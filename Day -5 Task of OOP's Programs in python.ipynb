{
 "cells": [
  {
   "cell_type": "markdown",
   "metadata": {},
   "source": [
    "# How to create Object and Class "
   ]
  },
  {
   "cell_type": "code",
   "execution_count": 1,
   "metadata": {},
   "outputs": [
    {
     "name": "stdout",
     "output_type": "stream",
     "text": [
      "Hello\n",
      "Name is :  Nirali Gosaliya\n"
     ]
    }
   ],
   "source": [
    "class Myclass:\n",
    "    \n",
    "    def func1(self):\n",
    "        print(\"Hello\")\n",
    "        \n",
    "    def func2(self,name):\n",
    "        print(\"Name is : \",name)\n",
    "        \n",
    "myobj = Myclass()\n",
    "myobj.func1()\n",
    "myobj.func2(\"Nirali Gosaliya\")\n",
    "        \n",
    "        "
   ]
  },
  {
   "cell_type": "markdown",
   "metadata": {},
   "source": [
    "# Sum of two numbers using class and object"
   ]
  },
  {
   "cell_type": "code",
   "execution_count": 3,
   "metadata": {},
   "outputs": [
    {
     "name": "stdout",
     "output_type": "stream",
     "text": [
      "ans is :  300\n"
     ]
    }
   ],
   "source": [
    "class Sum:\n",
    "    def sumof(self,n1,n2):\n",
    "        ans=n1+n2\n",
    "        print(\"ans is : \",ans)\n",
    "        \n",
    "obj=Sum()\n",
    "obj.sumof(100,200)\n"
   ]
  },
  {
   "cell_type": "markdown",
   "metadata": {},
   "source": [
    "# Default constructor Example"
   ]
  },
  {
   "cell_type": "code",
   "execution_count": 4,
   "metadata": {},
   "outputs": [
    {
     "name": "stdout",
     "output_type": "stream",
     "text": [
      "Hello Everyone\n"
     ]
    }
   ],
   "source": [
    "class Constructorexample:\n",
    "    def __init__(self):\n",
    "        print(\"Hello Everyone\")\n",
    "        \n",
    "c1=Constructorexample()\n"
   ]
  },
  {
   "cell_type": "markdown",
   "metadata": {},
   "source": [
    "# Parameterized Constructor "
   ]
  },
  {
   "cell_type": "code",
   "execution_count": 6,
   "metadata": {},
   "outputs": [
    {
     "name": "stdout",
     "output_type": "stream",
     "text": [
      "Name is :  Akash Technolabs\n"
     ]
    }
   ],
   "source": [
    "class Example:\n",
    "    def __init__(self,name):\n",
    "        print(\"Name is : \",name)\n",
    "\n",
    "b1=Example(\"Akash Technolabs\")\n",
    "\n",
    "        "
   ]
  },
  {
   "cell_type": "markdown",
   "metadata": {},
   "source": [
    "# Assign string value to class variable using method"
   ]
  },
  {
   "cell_type": "code",
   "execution_count": 9,
   "metadata": {},
   "outputs": [
    {
     "name": "stdout",
     "output_type": "stream",
     "text": [
      "Hello Function1\n",
      "value is :  Akash Technolabs\n"
     ]
    }
   ],
   "source": [
    "class Myclass:\n",
    "    name=\"\"\n",
    "    \n",
    "    def func1(self):\n",
    "        print(\"Hello Function1\")\n",
    "        \n",
    "    def func2(self,name):\n",
    "        self.name=name\n",
    "        \n",
    "    def func3(self):\n",
    "        print(\"value is : \",self.name)\n",
    "        \n",
    "m1=Myclass()\n",
    "m1.func1()\n",
    "m1.func2(\"Akash Technolabs\")\n",
    "m1.func3()"
   ]
  },
  {
   "cell_type": "markdown",
   "metadata": {},
   "source": [
    "# Assign string value to class variable using constructor"
   ]
  },
  {
   "cell_type": "code",
   "execution_count": 14,
   "metadata": {
    "scrolled": true
   },
   "outputs": [
    {
     "name": "stdout",
     "output_type": "stream",
     "text": [
      "value is :  Akash Technolabs\n",
      "n1 is :  10\n",
      "n2 is :  200\n"
     ]
    }
   ],
   "source": [
    "class Myclass:\n",
    "    name=\"\"\n",
    "    \n",
    "    def __init__(self,name):\n",
    "        self.name=name\n",
    "        \n",
    "    def func1(self):\n",
    "        print(\"value is : \",self.name)\n",
    "        \n",
    "myc=Myclass(\"Akash Technolabs\")\n",
    "myc.func1()\n",
    "\n",
    "\n",
    "class Sum:\n",
    "    n1=0\n",
    "    n2=0\n",
    "    \n",
    "    def __init__(self,n1,n2):\n",
    "        self.n1=n1\n",
    "        self.n2=n2\n",
    "        \n",
    "    def function1(self):\n",
    "        print(\"n1 is : \",self.n1)\n",
    "        print(\"n2 is : \",self.n2)\n",
    "        \n",
    "d1=Sum(10,200)\n",
    "d1.function1()\n",
    "    \n",
    "        "
   ]
  },
  {
   "cell_type": "markdown",
   "metadata": {},
   "source": [
    "# Single level Inheritance"
   ]
  },
  {
   "cell_type": "code",
   "execution_count": 15,
   "metadata": {},
   "outputs": [
    {
     "name": "stdout",
     "output_type": "stream",
     "text": [
      "Calling child constructor\n",
      "Calling child method\n",
      "Calling parent method\n"
     ]
    }
   ],
   "source": [
    "class Parent:\n",
    "    \n",
    "    def __init__(self):\n",
    "        print(\"Calling parent constructor\")\n",
    "    def parentmethod(self):\n",
    "        print(\"Calling parent method\")\n",
    "        \n",
    "class Child(Parent):\n",
    "    def __init__(self):\n",
    "        print(\"Calling child constructor\")\n",
    "    def childmethod(self):\n",
    "        print(\"Calling child method\")\n",
    "        \n",
    "ob=Child()\n",
    "ob.childmethod()\n",
    "ob.parentmethod()"
   ]
  },
  {
   "cell_type": "markdown",
   "metadata": {},
   "source": [
    "# Multi level Inheritance"
   ]
  },
  {
   "cell_type": "code",
   "execution_count": 16,
   "metadata": {},
   "outputs": [
    {
     "name": "stdout",
     "output_type": "stream",
     "text": [
      "calling subchild constructor\n",
      "calling subchildmethod\n",
      "calling child method\n",
      "calling parent class method\n"
     ]
    }
   ],
   "source": [
    "class Parent:\n",
    "    def __init__(self):\n",
    "        print(\"calling parent constructor\")\n",
    "    def parentmethod(self):\n",
    "        print(\"calling parent class method\")\n",
    "    \n",
    "class Child(Parent):\n",
    "    def __init__(self):\n",
    "        print(\"invoked at the time of object creation\")\n",
    "    def childmethod(self):\n",
    "        print(\"calling child method\")\n",
    "    \n",
    "class Subchild(Child):\n",
    "    def __init__(self):\n",
    "        print(\"calling subchild constructor\")\n",
    "    def subchildmethod(self):\n",
    "        print(\"calling subchildmethod\")\n",
    "        \n",
    "b1=Subchild()\n",
    "b1.subchildmethod()\n",
    "b1.childmethod()\n",
    "b1.parentmethod()"
   ]
  },
  {
   "cell_type": "markdown",
   "metadata": {},
   "source": [
    "# Multiple Inheritance"
   ]
  },
  {
   "cell_type": "code",
   "execution_count": 19,
   "metadata": {},
   "outputs": [
    {
     "name": "stdout",
     "output_type": "stream",
     "text": [
      "childmethod is called\n",
      "parent method called\n",
      "parent1 method called\n"
     ]
    }
   ],
   "source": [
    "class Parent:\n",
    "    def parent_method(self):\n",
    "        print(\"parent method called\")\n",
    "        \n",
    "class Parent1():\n",
    "    def parent1_method(self):\n",
    "        print(\"parent1 method called\")\n",
    "        \n",
    "class Childclass(Parent,Parent1):\n",
    "    def child_method(self):\n",
    "        print(\"childmethod is called\")\n",
    "        \n",
    "d2=Childclass()\n",
    "d2.child_method()\n",
    "d2.parent_method()\n",
    "d2.parent1_method()"
   ]
  },
  {
   "cell_type": "markdown",
   "metadata": {},
   "source": [
    "# Hierarchical Inheritance"
   ]
  },
  {
   "cell_type": "code",
   "execution_count": 24,
   "metadata": {},
   "outputs": [
    {
     "name": "stdout",
     "output_type": "stream",
     "text": [
      "parent method is called\n",
      "calling subchild method\n"
     ]
    }
   ],
   "source": [
    "class Parent:\n",
    "    def  parent_method(self):\n",
    "        print(\"parent method is called\")\n",
    "class Childclass(Parent):\n",
    "    def child_method(self):\n",
    "        print(\"calling child method\")\n",
    "class Subchild(Parent):\n",
    "    def subchild_method(self):\n",
    "        print(\"calling subchild method\")\n",
    "        \n",
    "d1=Subchild()\n",
    "d1.parent_method()\n",
    "d1.subchild_method()"
   ]
  },
  {
   "cell_type": "markdown",
   "metadata": {},
   "source": [
    "# Hybrid Inheritance"
   ]
  },
  {
   "cell_type": "code",
   "execution_count": 30,
   "metadata": {},
   "outputs": [
    {
     "name": "stdout",
     "output_type": "stream",
     "text": [
      "Parent method is called\n",
      "Parent1 method is called\n",
      "child method is called\n"
     ]
    }
   ],
   "source": [
    "class Parent:\n",
    "    def parent_method(self):\n",
    "        print(\"Parent method is called\")\n",
    "class Parent1:\n",
    "     def parent1_method(self):\n",
    "        print(\"Parent1 method is called\")\n",
    "class Childclass(Parent,Parent1):\n",
    "    def child_method(self):\n",
    "         print(\"child method is called\")\n",
    "\n",
    "class Childclass1(Parent):\n",
    "    def child_method1(self):\n",
    "         print(\"childclass1 method is called\")\n",
    "            \n",
    "c1=Childclass()\n",
    "c1.parent_method()\n",
    "c1.parent1_method()\n",
    "c1.child_method()\n"
   ]
  },
  {
   "cell_type": "markdown",
   "metadata": {},
   "source": [
    "# Method Overriding"
   ]
  },
  {
   "cell_type": "code",
   "execution_count": 31,
   "metadata": {},
   "outputs": [
    {
     "name": "stdout",
     "output_type": "stream",
     "text": [
      "Child method is called\n"
     ]
    }
   ],
   "source": [
    "class Parentclass:\n",
    "    def func1(self):\n",
    "        print(\"Parent method is called\")\n",
    "        \n",
    "class Childclass(Parentclass):\n",
    "    def func1(self):\n",
    "        print(\"Child method is called\")\n",
    "        \n",
    "c=Childclass()\n",
    "c.func1()"
   ]
  },
  {
   "cell_type": "markdown",
   "metadata": {},
   "source": [
    "# Method Overloading"
   ]
  },
  {
   "cell_type": "code",
   "execution_count": 32,
   "metadata": {},
   "outputs": [
    {
     "name": "stdout",
     "output_type": "stream",
     "text": [
      "ans is :  60\n"
     ]
    }
   ],
   "source": [
    "class Myclass:\n",
    "    def sum(self,n1,n2):\n",
    "        ans=n1+n2\n",
    "        print(\"ans is : \",ans)\n",
    "        \n",
    "    def sum(self,n1,n2,n3):\n",
    "        ans=n1+n2+n3\n",
    "        print(\"ans is : \",ans)\n",
    "        \n",
    "v1=Myclass()\n",
    "v1.sum(10,20,30)"
   ]
  },
  {
   "cell_type": "markdown",
   "metadata": {},
   "source": [
    "# Task -1 Calculate sum by creating cla1 and setdata() method and display sum"
   ]
  },
  {
   "cell_type": "code",
   "execution_count": 38,
   "metadata": {},
   "outputs": [
    {
     "name": "stdout",
     "output_type": "stream",
     "text": [
      "The total sum is :  1300\n"
     ]
    }
   ],
   "source": [
    "class Cal1:\n",
    "    \n",
    "    n1=0\n",
    "    \n",
    "    n2=0\n",
    "    \n",
    "    n3=0\n",
    "    \n",
    "    def setdata(self,n1,n2,n3):\n",
    "        self.n1=n1\n",
    "        \n",
    "        self.n2=n2\n",
    "        \n",
    "        self.n3=n3\n",
    "       \n",
    "        \n",
    "    def display(self):\n",
    "        \n",
    "        ans=self.n1+self.n2+self.n3\n",
    "        \n",
    "        print(\"The total sum is : \",ans)\n",
    "        \n",
    "d=Cal1()\n",
    "\n",
    "d.setdata(100,300,900)\n",
    "\n",
    "d.display()\n",
    "        "
   ]
  },
  {
   "cell_type": "markdown",
   "metadata": {},
   "source": [
    "# Task -2 Calculate area of circle"
   ]
  },
  {
   "cell_type": "code",
   "execution_count": 56,
   "metadata": {},
   "outputs": [
    {
     "name": "stdout",
     "output_type": "stream",
     "text": [
      "Enter a radius value : 2\n",
      "The area of a circel is :  12.56\n"
     ]
    }
   ],
   "source": [
    "class Cal2:\n",
    "    \n",
    "    def setdata(self):\n",
    "        \n",
    "        r=float(input(\"Enter a radius value : \"))\n",
    "        \n",
    "        self.r=r\n",
    "        \n",
    "    def area(self):\n",
    "        \n",
    "        self.ans=3.14*self.r*self.r\n",
    "        \n",
    "    def display(self):\n",
    "        \n",
    "        print(\"The area of a circel is : \",self.ans)\n",
    "        \n",
    "d=Cal2()\n",
    "\n",
    "d.setdata()\n",
    "\n",
    "d.area()\n",
    "\n",
    "d.display()"
   ]
  },
  {
   "cell_type": "markdown",
   "metadata": {},
   "source": [
    "# Task -3 calculate Simle Interest"
   ]
  },
  {
   "cell_type": "code",
   "execution_count": 60,
   "metadata": {},
   "outputs": [
    {
     "name": "stdout",
     "output_type": "stream",
     "text": [
      "The ans is :  100.0\n"
     ]
    }
   ],
   "source": [
    "class Cal3:\n",
    "    \n",
    "    def __init__(self,p,n,r):\n",
    "        self.p=p\n",
    "        \n",
    "        self.n=n\n",
    "        \n",
    "        self.r=r\n",
    "        \n",
    "    def callinterest(self):\n",
    "        \n",
    "        self.ans=(self.p*self.n*self.r)/100\n",
    "        \n",
    "    def display(self):\n",
    "        \n",
    "        print(\"The ans is : \",self.ans)\n",
    "        \n",
    "i=Cal3(1000,2,5)\n",
    "\n",
    "i.callinterest()\n",
    "\n",
    "i.display()"
   ]
  },
  {
   "cell_type": "markdown",
   "metadata": {},
   "source": [
    "# Task -4 Calculate square of number"
   ]
  },
  {
   "cell_type": "code",
   "execution_count": 62,
   "metadata": {},
   "outputs": [
    {
     "data": {
      "text/plain": [
       "81"
      ]
     },
     "execution_count": 62,
     "metadata": {},
     "output_type": "execute_result"
    }
   ],
   "source": [
    "class Cal4:\n",
    "    \n",
    "    def setdata(self,n):\n",
    "        \n",
    "        self.n=n\n",
    "        \n",
    "    def display(self):\n",
    "        \n",
    "        self.ans=self.n*self.n\n",
    "        \n",
    "        return self.ans\n",
    "\n",
    "m=Cal4()\n",
    "\n",
    "m.setdata(9)\n",
    "\n",
    "m.display()\n",
    "\n"
   ]
  },
  {
   "cell_type": "markdown",
   "metadata": {},
   "source": [
    "# Task -5 Create an employee class and subclass as subemp to show the inheritance relationship"
   ]
  },
  {
   "cell_type": "code",
   "execution_count": 70,
   "metadata": {},
   "outputs": [
    {
     "name": "stdout",
     "output_type": "stream",
     "text": [
      "The name is :  Hiral Gosaliya\n",
      "The designation is :  Web designer\n",
      "The salary is :  30000\n"
     ]
    }
   ],
   "source": [
    "class Employee:\n",
    "    \n",
    "    def info(self,name,designation):\n",
    "        \n",
    "        self.name=name\n",
    "        \n",
    "        self.designation=designation\n",
    "    \n",
    "class SubEmp(Employee):\n",
    "    \n",
    "    def display(self,salary):\n",
    "        \n",
    "        print(\"The name is : \",self.name)\n",
    "        \n",
    "        print(\"The designation is : \",self.designation)\n",
    "        \n",
    "        print(\"The salary is : \",salary)\n",
    "        \n",
    "b=SubEmp()\n",
    "\n",
    "b.info(\"Hiral Gosaliya\",\"Web designer\")\n",
    "\n",
    "b.display(30000)\n",
    "\n",
    "        \n",
    "    "
   ]
  },
  {
   "cell_type": "markdown",
   "metadata": {},
   "source": [
    "# Task -6 Calculate area of a rectangle"
   ]
  },
  {
   "cell_type": "code",
   "execution_count": 71,
   "metadata": {},
   "outputs": [
    {
     "name": "stdout",
     "output_type": "stream",
     "text": [
      "The aera of rectangle is :  5000\n"
     ]
    }
   ],
   "source": [
    "class Cal5:\n",
    "    \n",
    "    def __init__(self,l,b):\n",
    "        self.l=l\n",
    "        \n",
    "        self.b=b\n",
    "        \n",
    "    def calarea(self):\n",
    "        \n",
    "        self.ans=self.l*self.b\n",
    "    \n",
    "    def display(self):\n",
    "        \n",
    "        print(\"The aera of rectangle is : \",self.ans)\n",
    "        \n",
    "b=Cal5(100,50)\n",
    "\n",
    "b.calarea()\n",
    "\n",
    "b.display()\n",
    "        \n",
    "        \n",
    "        \n",
    "        \n"
   ]
  },
  {
   "cell_type": "markdown",
   "metadata": {},
   "source": [
    "# Task -7 Calculate area of a square"
   ]
  },
  {
   "cell_type": "code",
   "execution_count": 75,
   "metadata": {},
   "outputs": [
    {
     "name": "stdout",
     "output_type": "stream",
     "text": [
      "Enter length of square : 5\n",
      "The area of square is :  25.0\n"
     ]
    }
   ],
   "source": [
    "class Cal6:\n",
    "    \n",
    "    def setdata(self):\n",
    "        \n",
    "        self.len=float(input(\"Enter length of square : \"))\n",
    "        \n",
    "    def area(self):\n",
    "        \n",
    "        self.ans=self.len*self.len\n",
    "        \n",
    "    def display(self):\n",
    "        \n",
    "        print(\"The area of square is : \",self.ans)\n",
    "        \n",
    "b=Cal6()\n",
    "\n",
    "b.setdata()\n",
    "\n",
    "b.area()\n",
    "\n",
    "b.display()\n",
    "        \n",
    "        "
   ]
  },
  {
   "cell_type": "markdown",
   "metadata": {},
   "source": [
    "# Task -8 Define a publisher class and inherite it in book and tape subclasses to show heirarchical inheritance"
   ]
  },
  {
   "cell_type": "code",
   "execution_count": 4,
   "metadata": {},
   "outputs": [
    {
     "name": "stdout",
     "output_type": "stream",
     "text": [
      "Enter title here : Man in the middle\n",
      "The time is :  1:00 pm\n",
      "Enter page no : 40\n"
     ]
    }
   ],
   "source": [
    "class Publisher:\n",
    "    \n",
    "    def title_method(self):\n",
    "        \n",
    "        title=input(\"Enter title here : \")\n",
    "        self.title=title\n",
    "        \n",
    "       \n",
    "        \n",
    "class Book(Publisher):\n",
    "    \n",
    "    def page_method(self):\n",
    "        \n",
    "        page_no=int(input(\"Enter page no : \"))\n",
    "        self.page_no=page_no\n",
    "        \n",
    "class Tape(Publisher):\n",
    "    \n",
    "    def time_method(self,time):\n",
    "        \n",
    "        self.time=time\n",
    "        \n",
    "        print(\"The time is : \",self.time)\n",
    "        \n",
    "v=Tape()\n",
    "v.title_method()\n",
    "v.time_method(\"1:00 pm\")\n",
    "\n",
    "b=Book()\n",
    "b.page_method()\n",
    "cr"
   ]
  },
  {
   "cell_type": "markdown",
   "metadata": {},
   "source": [
    "# Task -9  Create a Sceheme class as parent class and inherite it in customer subclass to show single level inheritance"
   ]
  },
  {
   "cell_type": "code",
   "execution_count": 6,
   "metadata": {},
   "outputs": [
    {
     "name": "stdout",
     "output_type": "stream",
     "text": [
      "Enter rate here : 10\n",
      "Enter msg_charge here : 4\n",
      "Enter mobile no here : 6543887600\n",
      "Scheme id : 3\n",
      "Scheme name  Anshil\n",
      "Customer id : 7\n",
      "Customer name  Hemali\n"
     ]
    }
   ],
   "source": [
    "class Scheme:\n",
    "    \n",
    "    def scheme_method(self,id,name):\n",
    "        self.id=id\n",
    "        self.name=name\n",
    "        rate=float(input(\"Enter rate here : \"))\n",
    "        self.rate=rate\n",
    "        msg_charge=int(input(\"Enter msg_charge here : \"))\n",
    "        self.msg_charge=msg_charge\n",
    "        \n",
    "class Customer(Scheme):\n",
    "    \n",
    "    def cust_method(self,cust_id,cust_name):\n",
    "        self.cust_id=cust_id\n",
    "        self.cust_name=cust_name\n",
    "        mobile_no=int(input(\"Enter mobile no here : \"))\n",
    "        self.mobile_no=mobile_no\n",
    "        \n",
    "    def display(self):\n",
    "        print(\"Scheme id :\",self.id)\n",
    "        print(\"Scheme name \",self.name)\n",
    "        print(\"Customer id :\",self.cust_id)\n",
    "        print(\"Customer name \",self.cust_name)\n",
    "v=Customer()\n",
    "v.scheme_method(3,\"Anshil\")\n",
    "v.cust_method(7,\"Hemali\")\n",
    "v.display()"
   ]
  },
  {
   "cell_type": "markdown",
   "metadata": {},
   "source": [
    "# Task -10 Create a Arith class and define methods to add sub and multiplication of two numbers"
   ]
  },
  {
   "cell_type": "code",
   "execution_count": 7,
   "metadata": {},
   "outputs": [
    {
     "name": "stdout",
     "output_type": "stream",
     "text": [
      "Addition of two numbers are :  30\n",
      "Subtraction of two numbers are :  -10\n",
      "Multiplication of two numbers are :  200\n"
     ]
    }
   ],
   "source": [
    "class Arith:\n",
    "    def __init__(self,a,b):\n",
    "        self.a=a\n",
    "        self.b=b\n",
    "        \n",
    "    def add_method(self):\n",
    "        self.add_ans=self.a + self.b\n",
    "        \n",
    "    def sub_method(self):\n",
    "        self.sub_ans=self.a - self.b\n",
    "    \n",
    "    def multiply_method(self):\n",
    "        self.multi=self.a * self.b\n",
    "        \n",
    "    def display(self):\n",
    "        print(\"Addition of two numbers are : \",self.add_ans)\n",
    "        \n",
    "        print(\"Subtraction of two numbers are : \",self.sub_ans)\n",
    "        \n",
    "        print(\"Multiplication of two numbers are : \",self.multi)\n",
    "        \n",
    "b=Arith(10,20)\n",
    "b.add_method()\n",
    "b.sub_method()\n",
    "b.multiply_method()\n",
    "b.display()\n"
   ]
  },
  {
   "cell_type": "code",
   "execution_count": null,
   "metadata": {},
   "outputs": [],
   "source": []
  },
  {
   "cell_type": "code",
   "execution_count": null,
   "metadata": {},
   "outputs": [],
   "source": []
  }
 ],
 "metadata": {
  "kernelspec": {
   "display_name": "Python 3",
   "language": "python",
   "name": "python3"
  },
  "language_info": {
   "codemirror_mode": {
    "name": "ipython",
    "version": 3
   },
   "file_extension": ".py",
   "mimetype": "text/x-python",
   "name": "python",
   "nbconvert_exporter": "python",
   "pygments_lexer": "ipython3",
   "version": "3.7.4"
  }
 },
 "nbformat": 4,
 "nbformat_minor": 2
}
